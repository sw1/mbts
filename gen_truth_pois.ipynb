{
 "cells": [
  {
   "cell_type": "code",
   "execution_count": 1,
   "metadata": {
    "collapsed": false,
    "scrolled": true
   },
   "outputs": [
    {
     "name": "stderr",
     "output_type": "stream",
     "text": [
      "/data/sw1/anaconda3/envs/tensorflow3/lib/python3.6/site-packages/rpy2/rinterface/__init__.py:186: RRuntimeWarning: During startup - \n",
      "  warnings.warn(x, RRuntimeWarning)\n",
      "/data/sw1/anaconda3/envs/tensorflow3/lib/python3.6/site-packages/rpy2/rinterface/__init__.py:186: RRuntimeWarning: Warning messages:\n",
      "\n",
      "  warnings.warn(x, RRuntimeWarning)\n",
      "/data/sw1/anaconda3/envs/tensorflow3/lib/python3.6/site-packages/rpy2/rinterface/__init__.py:186: RRuntimeWarning: 1: package ‘methods’ was built under R version 3.4.2 \n",
      "\n",
      "  warnings.warn(x, RRuntimeWarning)\n",
      "/data/sw1/anaconda3/envs/tensorflow3/lib/python3.6/site-packages/rpy2/rinterface/__init__.py:186: RRuntimeWarning: 2: package ‘datasets’ was built under R version 3.4.2 \n",
      "\n",
      "  warnings.warn(x, RRuntimeWarning)\n",
      "/data/sw1/anaconda3/envs/tensorflow3/lib/python3.6/site-packages/rpy2/rinterface/__init__.py:186: RRuntimeWarning: 3: package ‘utils’ was built under R version 3.4.2 \n",
      "\n",
      "  warnings.warn(x, RRuntimeWarning)\n",
      "/data/sw1/anaconda3/envs/tensorflow3/lib/python3.6/site-packages/rpy2/rinterface/__init__.py:186: RRuntimeWarning: 4: package ‘grDevices’ was built under R version 3.4.2 \n",
      "\n",
      "  warnings.warn(x, RRuntimeWarning)\n",
      "/data/sw1/anaconda3/envs/tensorflow3/lib/python3.6/site-packages/rpy2/rinterface/__init__.py:186: RRuntimeWarning: 5: package ‘graphics’ was built under R version 3.4.2 \n",
      "\n",
      "  warnings.warn(x, RRuntimeWarning)\n",
      "/data/sw1/anaconda3/envs/tensorflow3/lib/python3.6/site-packages/rpy2/rinterface/__init__.py:186: RRuntimeWarning: 6: package ‘stats’ was built under R version 3.4.2 \n",
      "\n",
      "  warnings.warn(x, RRuntimeWarning)\n",
      "/data/sw1/anaconda3/envs/tensorflow3/lib/python3.6/site-packages/rpy2/robjects/lib/ggplot2.py:67: UserWarning: This was designed againt ggplot2 version 2.2.0 but you have 2.2.1\n",
      "  warnings.warn('This was designed againt ggplot2 version %s but you have %s' % (TARGET_VERSION, ggplot2.__version__))\n"
     ]
    }
   ],
   "source": [
    "import math\n",
    "import numpy as np\n",
    "import rpy2\n",
    "import rpy2.robjects as robjects\n",
    "import rpy2.robjects.packages as rpackages\n",
    "from rpy2.robjects.vectors import StrVector\n",
    "from rpy2.robjects.packages import SignatureTranslatedAnonymousPackage\n",
    "import rpy2.robjects.lib.ggplot2 as gg\n",
    "import rpy2.robjects as ro\n",
    "from rpy2.robjects.packages import importr\n",
    "from rpy2.robjects.vectors import IntVector, FloatVector\n",
    "from rpy2.robjects.lib import grid\n",
    "\n",
    "from rpy2.robjects import pandas2ri\n",
    "pandas2ri.activate()"
   ]
  },
  {
   "cell_type": "code",
   "execution_count": 2,
   "metadata": {
    "collapsed": false
   },
   "outputs": [],
   "source": [
    "grdevices = importr('grDevices')\n",
    "base = importr('base')"
   ]
  },
  {
   "cell_type": "code",
   "execution_count": 3,
   "metadata": {
    "collapsed": false
   },
   "outputs": [],
   "source": [
    "fn = '/data/sw1/Dropbox/timeseries/gen_truth_class_pois.R'\n",
    "file = ''.join(open(fn,'r').readlines())"
   ]
  },
  {
   "cell_type": "code",
   "execution_count": 4,
   "metadata": {
    "collapsed": false,
    "scrolled": false
   },
   "outputs": [
    {
     "name": "stderr",
     "output_type": "stream",
     "text": [
      "/data/sw1/anaconda3/envs/tensorflow3/lib/python3.6/site-packages/rpy2/rinterface/__init__.py:186: RRuntimeWarning: ── \u001b[1mAttaching packages\u001b[22m ─────────────────────────────────────── tidyverse 1.2.1 ──\n",
      "\n",
      "  warnings.warn(x, RRuntimeWarning)\n",
      "/data/sw1/anaconda3/envs/tensorflow3/lib/python3.6/site-packages/rpy2/rinterface/__init__.py:186: RRuntimeWarning: \u001b[32m✔\u001b[39m \u001b[34mtibble \u001b[39m 1.3.4     \u001b[32m✔\u001b[39m \u001b[34mpurrr  \u001b[39m 0.2.4\n",
      "\u001b[32m✔\u001b[39m \u001b[34mtidyr  \u001b[39m 0.7.2     \u001b[32m✔\u001b[39m \u001b[34mdplyr  \u001b[39m 0.7.4\n",
      "\u001b[32m✔\u001b[39m \u001b[34mreadr  \u001b[39m 1.1.1     \u001b[32m✔\u001b[39m \u001b[34mstringr\u001b[39m 1.2.0\n",
      "\u001b[32m✔\u001b[39m \u001b[34mtibble \u001b[39m 1.3.4     \u001b[32m✔\u001b[39m \u001b[34mforcats\u001b[39m 0.2.0\n",
      "\n",
      "  warnings.warn(x, RRuntimeWarning)\n",
      "/data/sw1/anaconda3/envs/tensorflow3/lib/python3.6/site-packages/rpy2/rinterface/__init__.py:186: RRuntimeWarning: ── \u001b[1mConflicts\u001b[22m ────────────────────────────────────────── tidyverse_conflicts() ──\n",
      "\u001b[31m✖\u001b[39m \u001b[34mdplyr\u001b[39m::\u001b[32mfilter()\u001b[39m masks \u001b[34mstats\u001b[39m::filter()\n",
      "\u001b[31m✖\u001b[39m \u001b[34mdplyr\u001b[39m::\u001b[32mlag()\u001b[39m    masks \u001b[34mstats\u001b[39m::lag()\n",
      "\n",
      "  warnings.warn(x, RRuntimeWarning)\n"
     ]
    }
   ],
   "source": [
    "mbts = SignatureTranslatedAnonymousPackage(file,'mbts')"
   ]
  },
  {
   "cell_type": "code",
   "execution_count": 5,
   "metadata": {
    "collapsed": false
   },
   "outputs": [],
   "source": [
    "def plot_signal(obj, path, n=4, w=1000, h=1000):\n",
    "    \n",
    "    dat_sig = mbts.prep_sig_mbts(obj,6)\n",
    "    \n",
    "    pp = gg.ggplot(dat_sig) + \\\n",
    "    gg.aes_string(x='t',y='w') + \\\n",
    "    gg.facet_grid(ro.Formula('sim ~ .')) + \\\n",
    "    gg.geom_line() + \\\n",
    "    gg.theme_classic() \n",
    "    \n",
    "    grdevices.png(file=path, width=w, height=h)\n",
    "    pp.plot()\n",
    "    grdevices.dev_off()\n",
    "    \n",
    "def plot_simulation(obj, path, i=1, w=1000, h=1000):\n",
    "    \n",
    "    dat_sig = mbts.prep_sim_mbts(obj,i)\n",
    "\n",
    "    pp = gg.ggplot(dat_sig) + \\\n",
    "    gg.geom_rect(gg.aes_string(xmin='min_t',xmax='max_t',ymin=-math.inf,ymax=math.inf),fill='gray') + \\\n",
    "    gg.geom_line(gg.aes_string(x='t',y='signal'),linetype=3,color='red') + \\\n",
    "    gg.geom_line(gg.aes_string(x='t',y='count'),alpha=.5) + \\\n",
    "    gg.geom_point(gg.aes_string(x='t',y='count'),alpha=1) + \\\n",
    "    gg.facet_grid(ro.Formula('taxa ~ .')) + \\\n",
    "    gg.stat_smooth(gg.aes_string(x='t',y='count'),method='loess',color='green',se=False,span=.1,size=.7,alpha=.5) + \\\n",
    "    gg.theme_classic() + \\\n",
    "    gg.labs(x='time',y='count')\n",
    "\n",
    "    grdevices.png(file=path, width=w, height=h)\n",
    "    pp.plot()\n",
    "    grdevices.dev_off()\n",
    "    \n",
    "def get_params(obj):\n",
    "    return dict(zip(obj.names, map(list,list(obj))))"
   ]
  },
  {
   "cell_type": "code",
   "execution_count": 6,
   "metadata": {
    "collapsed": false
   },
   "outputs": [],
   "source": [
    "dat = mbts.gen_table(fl_sig=0, # floor of the arima signal normalization\n",
    "                     w_sig=6, # roof of the arima signal normalization\n",
    "                     fl_bg=-6, # floor of the background normalization\n",
    "                     w_bg=6, # roof of the background normalization\n",
    "                     bg_disp_mu=0, # background noise poisson distribution mean\n",
    "                     bg_disp_sigma=1, # background noise poisson distribution sd\n",
    "                     sig_disp_mu1=0, # arima shared noise poisson distribution mean\n",
    "                     sig_disp_sigma1=0, # arima shared noise poisson distribution sd\n",
    "                     sig_disp_mu2=0, # signal taxa specific noise poission distribution mean\n",
    "                     sig_disp_sigma2=1, # signal taxa specific noise poission distribution sd\n",
    "                     n_sig=10, # number of arima signals\n",
    "                     n_clust=10, # number of taxa in an arima signal\n",
    "                     n_tax_sig=1, # number of taxa with FINAL signal (in beta atm)\n",
    "                     n_bg=700, # number of background taxa (this + signal columns in output data)\n",
    "                     len_arima=1000, # length of arima signal, needs to be larger than window\n",
    "                     len_ts=500, # length of the time series (row size of output table)\n",
    "                     len_signal=300) # length of the shared signal"
   ]
  },
  {
   "cell_type": "code",
   "execution_count": 8,
   "metadata": {
    "collapsed": false
   },
   "outputs": [],
   "source": [
    "dat_table = np.asarray(dat)"
   ]
  },
  {
   "cell_type": "code",
   "execution_count": 13,
   "metadata": {
    "collapsed": false,
    "scrolled": true
   },
   "outputs": [
    {
     "data": {
      "text/plain": [
       "{'bg_disp_mu': [0],\n",
       " 'bg_disp_sigma': [1],\n",
       " 'fl_bg': [-6],\n",
       " 'fl_sig': [0],\n",
       " 'len_arima': [1000],\n",
       " 'len_signal': [300],\n",
       " 'len_ts': [500],\n",
       " 'n_bg': [700],\n",
       " 'n_clust': [10],\n",
       " 'n_sig': [10],\n",
       " 'n_tax_sig': [1],\n",
       " 's_sig': [2],\n",
       " 'sig_disp_mu1': [0],\n",
       " 'sig_disp_mu2': [0],\n",
       " 'sig_disp_sigma1': [0],\n",
       " 'sig_disp_sigma2': [0.5],\n",
       " 'w_bg': [6],\n",
       " 'w_sig': [6]}"
      ]
     },
     "execution_count": 13,
     "metadata": {},
     "output_type": "execute_result"
    }
   ],
   "source": [
    "get_params(dat.slots['params'])"
   ]
  },
  {
   "cell_type": "code",
   "execution_count": 15,
   "metadata": {
    "collapsed": false
   },
   "outputs": [
    {
     "name": "stdout",
     "output_type": "stream",
     "text": [
      "    signal \n",
      "background \n",
      "\n",
      "\n",
      " 0.0066200 \n",
      " 0.3231171 \n",
      "\n",
      "\n"
     ]
    },
    {
     "data": {
      "text/plain": [
       "R object with classes: ('numeric',) mapped to:\n",
       "<FloatVector - Python:0x7f63cf268e48 / R:0x74a8fd0>\n",
       "[0.006620, 0.323117]"
      ]
     },
     "execution_count": 15,
     "metadata": {},
     "output_type": "execute_result"
    }
   ],
   "source": [
    "mbts.sparsity_mbts(dat)"
   ]
  },
  {
   "cell_type": "code",
   "execution_count": 16,
   "metadata": {
    "collapsed": false
   },
   "outputs": [
    {
     "name": "stdout",
     "output_type": "stream",
     "text": [
      "         \n",
      " signal\n",
      " background\n",
      "\n",
      "75%      \n",
      "     42\n",
      "          5\n",
      "\n",
      "76.78571%\n",
      "     47\n",
      "          5\n",
      "\n",
      "78.57143%\n",
      "     52\n",
      "          6\n",
      "\n",
      "80.35714%\n",
      "     56\n",
      "          6\n",
      "\n",
      "82.14286%\n",
      "     62\n",
      "          7\n",
      "\n",
      "83.92857%\n",
      "     69\n",
      "          8\n",
      "\n",
      "85.71429%\n",
      "     75\n",
      "          9\n",
      "\n",
      "87.5%    \n",
      "     84\n",
      "         10\n",
      "\n",
      "89.28571%\n",
      "     94\n",
      "         11\n",
      "\n",
      "91.07143%\n",
      "    109\n",
      "         14\n",
      "\n",
      "92.85714%\n",
      "    127\n",
      "         16\n",
      "\n",
      "94.64286%\n",
      "    149\n",
      "         21\n",
      "\n",
      "96.42857%\n",
      "    190\n",
      "         28\n",
      "\n",
      "98.21429%\n",
      "    281\n",
      "         45\n",
      "\n",
      "100%     \n",
      "    444\n",
      "       3180\n",
      "\n",
      "\n"
     ]
    },
    {
     "data": {
      "text/plain": [
       "R object with classes: ('matrix',) mapped to:\n",
       "<Matrix - Python:0x7f63cf269e48 / R:0x708df40>\n",
       "[42.000000, 47.000000, 52.000000, ..., 28.000000, 45.000000, 3180.000000]"
      ]
     },
     "execution_count": 16,
     "metadata": {},
     "output_type": "execute_result"
    }
   ],
   "source": [
    "mbts.quantiles_mbts(dat)"
   ]
  },
  {
   "cell_type": "code",
   "execution_count": 20,
   "metadata": {
    "collapsed": false
   },
   "outputs": [
    {
     "data": {
      "text/plain": [
       "array([[ 1.   ,  0.988,  0.986,  0.986,  0.988,  0.988,  0.988,  0.987,\n",
       "         0.987,  0.989],\n",
       "       [ 0.988,  1.   ,  0.989,  0.988,  0.992,  0.989,  0.99 ,  0.99 ,\n",
       "         0.99 ,  0.988],\n",
       "       [ 0.986,  0.989,  1.   ,  0.988,  0.989,  0.987,  0.989,  0.988,\n",
       "         0.987,  0.988],\n",
       "       [ 0.986,  0.988,  0.988,  1.   ,  0.989,  0.988,  0.988,  0.989,\n",
       "         0.988,  0.988],\n",
       "       [ 0.988,  0.992,  0.989,  0.989,  1.   ,  0.991,  0.991,  0.991,\n",
       "         0.99 ,  0.99 ],\n",
       "       [ 0.988,  0.989,  0.987,  0.988,  0.991,  1.   ,  0.989,  0.988,\n",
       "         0.99 ,  0.989],\n",
       "       [ 0.988,  0.99 ,  0.989,  0.988,  0.991,  0.989,  1.   ,  0.99 ,\n",
       "         0.99 ,  0.99 ],\n",
       "       [ 0.987,  0.99 ,  0.988,  0.989,  0.991,  0.988,  0.99 ,  1.   ,\n",
       "         0.989,  0.989],\n",
       "       [ 0.987,  0.99 ,  0.987,  0.988,  0.99 ,  0.99 ,  0.99 ,  0.989,\n",
       "         1.   ,  0.988],\n",
       "       [ 0.989,  0.988,  0.988,  0.988,  0.99 ,  0.989,  0.99 ,  0.989,\n",
       "         0.988,  1.   ]])"
      ]
     },
     "execution_count": 20,
     "metadata": {},
     "output_type": "execute_result"
    }
   ],
   "source": [
    "np.asarray(mbts.sig_cor_mbts(dat,i=1))"
   ]
  },
  {
   "cell_type": "code",
   "execution_count": 21,
   "metadata": {
    "collapsed": false
   },
   "outputs": [],
   "source": [
    "plot_signal(dat,path='/data/sw1/Dropbox/timeseries/sig.png')\n",
    "plot_simulation(dat,i=1,path='/data/sw1/Dropbox/timeseries/sim.png')"
   ]
  }
 ],
 "metadata": {
  "kernelspec": {
   "display_name": "Python [conda env:tensorflow3]",
   "language": "python",
   "name": "conda-env-tensorflow3-py"
  },
  "language_info": {
   "codemirror_mode": {
    "name": "ipython",
    "version": 3
   },
   "file_extension": ".py",
   "mimetype": "text/x-python",
   "name": "python",
   "nbconvert_exporter": "python",
   "pygments_lexer": "ipython3",
   "version": "3.6.0"
  }
 },
 "nbformat": 4,
 "nbformat_minor": 2
}
