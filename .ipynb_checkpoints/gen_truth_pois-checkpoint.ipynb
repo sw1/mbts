{
 "cells": [
  {
   "cell_type": "code",
   "execution_count": 41,
   "metadata": {
    "collapsed": false,
    "scrolled": true
   },
   "outputs": [],
   "source": [
    "import math\n",
    "import numpy as np\n",
    "import rpy2\n",
    "import rpy2.robjects as robjects\n",
    "import rpy2.robjects.packages as rpackages\n",
    "from rpy2.robjects.vectors import StrVector\n",
    "from rpy2.robjects.packages import SignatureTranslatedAnonymousPackage\n",
    "import rpy2.robjects.lib.ggplot2 as gg\n",
    "import rpy2.robjects as ro\n",
    "from rpy2.robjects.packages import importr\n",
    "from rpy2.robjects.vectors import IntVector, FloatVector\n",
    "from rpy2.robjects.lib import grid\n",
    "\n",
    "from rpy2.robjects import pandas2ri\n",
    "pandas2ri.activate()"
   ]
  },
  {
   "cell_type": "code",
   "execution_count": 2,
   "metadata": {
    "collapsed": false
   },
   "outputs": [],
   "source": [
    "grdevices = importr('grDevices')\n",
    "base = importr('base')"
   ]
  },
  {
   "cell_type": "code",
   "execution_count": 3,
   "metadata": {
    "collapsed": false
   },
   "outputs": [],
   "source": [
    "fn = '/data/sw1/Dropbox/timeseries/gen_truth_class_pois.R'\n",
    "file = ''.join(open(fn,'r').readlines())"
   ]
  },
  {
   "cell_type": "code",
   "execution_count": 4,
   "metadata": {
    "collapsed": false,
    "scrolled": false
   },
   "outputs": [
    {
     "name": "stderr",
     "output_type": "stream",
     "text": [
      "/data/sw1/anaconda3/envs/tensorflow3/lib/python3.6/site-packages/rpy2/rinterface/__init__.py:186: RRuntimeWarning: ── \u001b[1mAttaching packages\u001b[22m ─────────────────────────────────────── tidyverse 1.2.1 ──\n",
      "\n",
      "  warnings.warn(x, RRuntimeWarning)\n",
      "/data/sw1/anaconda3/envs/tensorflow3/lib/python3.6/site-packages/rpy2/rinterface/__init__.py:186: RRuntimeWarning: \u001b[32m✔\u001b[39m \u001b[34mtibble \u001b[39m 1.3.4     \u001b[32m✔\u001b[39m \u001b[34mpurrr  \u001b[39m 0.2.4\n",
      "\u001b[32m✔\u001b[39m \u001b[34mtidyr  \u001b[39m 0.7.2     \u001b[32m✔\u001b[39m \u001b[34mdplyr  \u001b[39m 0.7.4\n",
      "\u001b[32m✔\u001b[39m \u001b[34mreadr  \u001b[39m 1.1.1     \u001b[32m✔\u001b[39m \u001b[34mstringr\u001b[39m 1.2.0\n",
      "\u001b[32m✔\u001b[39m \u001b[34mtibble \u001b[39m 1.3.4     \u001b[32m✔\u001b[39m \u001b[34mforcats\u001b[39m 0.2.0\n",
      "\n",
      "  warnings.warn(x, RRuntimeWarning)\n",
      "/data/sw1/anaconda3/envs/tensorflow3/lib/python3.6/site-packages/rpy2/rinterface/__init__.py:186: RRuntimeWarning: ── \u001b[1mConflicts\u001b[22m ────────────────────────────────────────── tidyverse_conflicts() ──\n",
      "\u001b[31m✖\u001b[39m \u001b[34mdplyr\u001b[39m::\u001b[32mfilter()\u001b[39m masks \u001b[34mstats\u001b[39m::filter()\n",
      "\u001b[31m✖\u001b[39m \u001b[34mdplyr\u001b[39m::\u001b[32mlag()\u001b[39m    masks \u001b[34mstats\u001b[39m::lag()\n",
      "\n",
      "  warnings.warn(x, RRuntimeWarning)\n"
     ]
    }
   ],
   "source": [
    "mbts = SignatureTranslatedAnonymousPackage(file,'mbts')"
   ]
  },
  {
   "cell_type": "code",
   "execution_count": 54,
   "metadata": {
    "collapsed": false
   },
   "outputs": [],
   "source": [
    "def plot_signal(obj, path, n=4, w=1000, h=1000):\n",
    "    \n",
    "    dat_sig = mbts.prep_sig_mbts(obj,6)\n",
    "    \n",
    "    pp = gg.ggplot(dat_sig) + \\\n",
    "    gg.aes_string(x='t',y='w') + \\\n",
    "    gg.facet_grid(ro.Formula('sim ~ .')) + \\\n",
    "    gg.geom_line() + \\\n",
    "    gg.theme_classic() \n",
    "    \n",
    "    grdevices.png(file=path, width=w, height=h)\n",
    "    pp.plot()\n",
    "    grdevices.dev_off()\n",
    "    \n",
    "def plot_simulation(obj, path, i=1, w=1000, h=1000):\n",
    "    \n",
    "    dat_sig = mbts.prep_sim_mbts(obj,i)\n",
    "\n",
    "    pp = gg.ggplot(dat_sig) + \\\n",
    "    gg.geom_rect(gg.aes_string(xmin='min_t',xmax='max_t',ymin=-math.inf,ymax=math.inf),fill='gray') + \\\n",
    "    gg.geom_line(gg.aes_string(x='t',y='signal'),linetype=3,color='red') + \\\n",
    "    gg.geom_line(gg.aes_string(x='t',y='count'),alpha=.5) + \\\n",
    "    gg.geom_point(gg.aes_string(x='t',y='count'),alpha=1) + \\\n",
    "    gg.facet_grid(ro.Formula('taxa ~ .')) + \\\n",
    "    gg.stat_smooth(gg.aes_string(x='t',y='count'),method='loess',color='green',se=False,span=.1,size=.7,alpha=.5) + \\\n",
    "    gg.theme_classic() + \\\n",
    "    gg.labs(x='time',y='count')\n",
    "\n",
    "    grdevices.png(file=path, width=w, height=h)\n",
    "    pp.plot()\n",
    "    grdevices.dev_off()\n",
    "    \n",
    "def get_params(obj):\n",
    "    return dict(zip(obj.names, map(list,list(obj))))"
   ]
  },
  {
   "cell_type": "code",
   "execution_count": 6,
   "metadata": {
    "collapsed": false
   },
   "outputs": [],
   "source": [
    "dat = mbts.gen_table(bg_disp_mu=0,bg_disp_sigma=1,\n",
    "                     sig_disp_mu=1,sig_disp_sigma=0)"
   ]
  },
  {
   "cell_type": "code",
   "execution_count": 12,
   "metadata": {
    "collapsed": false
   },
   "outputs": [],
   "source": [
    "dat_table = np.asarray(dat)"
   ]
  },
  {
   "cell_type": "code",
   "execution_count": 27,
   "metadata": {
    "collapsed": false
   },
   "outputs": [
    {
     "data": {
      "text/plain": [
       "['dim', 'dimnames', 'signals', 'background', 'table', 'params', 'class']"
      ]
     },
     "execution_count": 27,
     "metadata": {},
     "output_type": "execute_result"
    }
   ],
   "source": [
    "list(dat.slots.keys())"
   ]
  },
  {
   "cell_type": "code",
   "execution_count": 55,
   "metadata": {
    "collapsed": false,
    "scrolled": true
   },
   "outputs": [
    {
     "data": {
      "text/plain": [
       "{'bg_disp_mu': [0],\n",
       " 'bg_disp_sigma': [1],\n",
       " 'fl_bg': [-6.0],\n",
       " 'fl_sig': [0.0],\n",
       " 'len_arima': [1000.0],\n",
       " 'len_signal': [300.0],\n",
       " 'len_ts': [500.0],\n",
       " 'n_bg': [700.0],\n",
       " 'n_clust': [10.0],\n",
       " 'n_sig': [10.0],\n",
       " 'n_tax_sig': [1.0],\n",
       " 's_sig': [2.0],\n",
       " 'sig_disp_mu': [1],\n",
       " 'sig_disp_sigma': [0],\n",
       " 'w_bg': [6.0],\n",
       " 'w_sig': [6.0]}"
      ]
     },
     "execution_count": 55,
     "metadata": {},
     "output_type": "execute_result"
    }
   ],
   "source": [
    "get_params(dat.slots['params'])"
   ]
  },
  {
   "cell_type": "code",
   "execution_count": 49,
   "metadata": {
    "collapsed": false
   },
   "outputs": [
    {
     "data": {
      "text/plain": [
       "rpy2.robjects.vectors.ListVector"
      ]
     },
     "execution_count": 49,
     "metadata": {},
     "output_type": "execute_result"
    }
   ],
   "source": [
    "pandas2ri.ri2py(dat.slots['params'])"
   ]
  },
  {
   "cell_type": "code",
   "execution_count": 52,
   "metadata": {
    "collapsed": false
   },
   "outputs": [
    {
     "name": "stdout",
     "output_type": "stream",
     "text": [
      "    signal \n",
      "background \n",
      "\n",
      "\n",
      " 0.0220200 \n",
      " 0.4751714 \n",
      "\n",
      "\n"
     ]
    },
    {
     "data": {
      "text/plain": [
       "R object with classes: ('numeric',) mapped to:\n",
       "<FloatVector - Python:0x7f95aaab0bc8 / R:0x8b8d978>\n",
       "[0.022020, 0.475171]"
      ]
     },
     "execution_count": 52,
     "metadata": {},
     "output_type": "execute_result"
    }
   ],
   "source": [
    "mbts.sparsity_mbts(dat)"
   ]
  },
  {
   "cell_type": "code",
   "execution_count": 53,
   "metadata": {
    "collapsed": false
   },
   "outputs": [
    {
     "name": "stdout",
     "output_type": "stream",
     "text": [
      "         \n",
      " signal\n",
      " background\n",
      "\n",
      "75%      \n",
      "     54\n",
      "          2\n",
      "\n",
      "76.78571%\n",
      "     59\n",
      "          2\n",
      "\n",
      "78.57143%\n",
      "     65\n",
      "          3\n",
      "\n",
      "80.35714%\n",
      "     72\n",
      "          3\n",
      "\n",
      "82.14286%\n",
      "     81\n",
      "          3\n",
      "\n",
      "83.92857%\n",
      "     90\n",
      "          4\n",
      "\n",
      "85.71429%\n",
      "     99\n",
      "          4\n",
      "\n",
      "87.5%    \n",
      "    111\n",
      "          5\n",
      "\n",
      "89.28571%\n",
      "    131\n",
      "          6\n",
      "\n",
      "91.07143%\n",
      "    160\n",
      "          7\n",
      "\n",
      "92.85714%\n",
      "    187\n",
      "          8\n",
      "\n",
      "94.64286%\n",
      "    205\n",
      "         10\n",
      "\n",
      "96.42857%\n",
      "    231\n",
      "         13\n",
      "\n",
      "98.21429%\n",
      "    292\n",
      "         21\n",
      "\n",
      "100%     \n",
      "    447\n",
      "       1395\n",
      "\n",
      "\n"
     ]
    },
    {
     "data": {
      "text/plain": [
       "R object with classes: ('matrix',) mapped to:\n",
       "<Matrix - Python:0x7f95aaaaa9c8 / R:0x9faba10>\n",
       "[54.000000, 59.000000, 65.000000, ..., 13.000000, 21.000000, 1395.000000]"
      ]
     },
     "execution_count": 53,
     "metadata": {},
     "output_type": "execute_result"
    }
   ],
   "source": [
    "mbts.quantiles_mbts(dat)"
   ]
  },
  {
   "cell_type": "code",
   "execution_count": 54,
   "metadata": {
    "collapsed": false
   },
   "outputs": [
    {
     "name": "stderr",
     "output_type": "stream",
     "text": [
      "/data/sw1/anaconda3/envs/tensorflow3/lib/python3.6/site-packages/rpy2/rinterface/__init__.py:186: RRuntimeWarning: Error in attr(x, \"signals\")[[i]] : invalid subscript type 'symbol'\n",
      "\n",
      "  warnings.warn(x, RRuntimeWarning)\n"
     ]
    },
    {
     "ename": "RRuntimeError",
     "evalue": "Error in attr(x, \"signals\")[[i]] : invalid subscript type 'symbol'\n",
     "output_type": "error",
     "traceback": [
      "\u001b[0;31m---------------------------------------------------------------------------\u001b[0m",
      "\u001b[0;31mRRuntimeError\u001b[0m                             Traceback (most recent call last)",
      "\u001b[0;32m<ipython-input-54-4b909e9c4bd7>\u001b[0m in \u001b[0;36m<module>\u001b[0;34m()\u001b[0m\n\u001b[0;32m----> 1\u001b[0;31m \u001b[0mmbts\u001b[0m\u001b[0;34m.\u001b[0m\u001b[0msig_cor_mbts\u001b[0m\u001b[0;34m(\u001b[0m\u001b[0mdat\u001b[0m\u001b[0;34m)\u001b[0m\u001b[0;34m\u001b[0m\u001b[0m\n\u001b[0m",
      "\u001b[0;32m/data/sw1/anaconda3/envs/tensorflow3/lib/python3.6/site-packages/rpy2/robjects/functions.py\u001b[0m in \u001b[0;36m__call__\u001b[0;34m(self, *args, **kwargs)\u001b[0m\n\u001b[1;32m    176\u001b[0m                 \u001b[0mv\u001b[0m \u001b[0;34m=\u001b[0m \u001b[0mkwargs\u001b[0m\u001b[0;34m.\u001b[0m\u001b[0mpop\u001b[0m\u001b[0;34m(\u001b[0m\u001b[0mk\u001b[0m\u001b[0;34m)\u001b[0m\u001b[0;34m\u001b[0m\u001b[0m\n\u001b[1;32m    177\u001b[0m                 \u001b[0mkwargs\u001b[0m\u001b[0;34m[\u001b[0m\u001b[0mr_k\u001b[0m\u001b[0;34m]\u001b[0m \u001b[0;34m=\u001b[0m \u001b[0mv\u001b[0m\u001b[0;34m\u001b[0m\u001b[0m\n\u001b[0;32m--> 178\u001b[0;31m         \u001b[0;32mreturn\u001b[0m \u001b[0msuper\u001b[0m\u001b[0;34m(\u001b[0m\u001b[0mSignatureTranslatedFunction\u001b[0m\u001b[0;34m,\u001b[0m \u001b[0mself\u001b[0m\u001b[0;34m)\u001b[0m\u001b[0;34m.\u001b[0m\u001b[0m__call__\u001b[0m\u001b[0;34m(\u001b[0m\u001b[0;34m*\u001b[0m\u001b[0margs\u001b[0m\u001b[0;34m,\u001b[0m \u001b[0;34m**\u001b[0m\u001b[0mkwargs\u001b[0m\u001b[0;34m)\u001b[0m\u001b[0;34m\u001b[0m\u001b[0m\n\u001b[0m\u001b[1;32m    179\u001b[0m \u001b[0;34m\u001b[0m\u001b[0m\n\u001b[1;32m    180\u001b[0m \u001b[0mpattern_link\u001b[0m \u001b[0;34m=\u001b[0m \u001b[0mre\u001b[0m\u001b[0;34m.\u001b[0m\u001b[0mcompile\u001b[0m\u001b[0;34m(\u001b[0m\u001b[0;34mr'\\\\link\\{(.+?)\\}'\u001b[0m\u001b[0;34m)\u001b[0m\u001b[0;34m\u001b[0m\u001b[0m\n",
      "\u001b[0;32m/data/sw1/anaconda3/envs/tensorflow3/lib/python3.6/site-packages/rpy2/robjects/functions.py\u001b[0m in \u001b[0;36m__call__\u001b[0;34m(self, *args, **kwargs)\u001b[0m\n\u001b[1;32m    104\u001b[0m         \u001b[0;32mfor\u001b[0m \u001b[0mk\u001b[0m\u001b[0;34m,\u001b[0m \u001b[0mv\u001b[0m \u001b[0;32min\u001b[0m \u001b[0mkwargs\u001b[0m\u001b[0;34m.\u001b[0m\u001b[0mitems\u001b[0m\u001b[0;34m(\u001b[0m\u001b[0;34m)\u001b[0m\u001b[0;34m:\u001b[0m\u001b[0;34m\u001b[0m\u001b[0m\n\u001b[1;32m    105\u001b[0m             \u001b[0mnew_kwargs\u001b[0m\u001b[0;34m[\u001b[0m\u001b[0mk\u001b[0m\u001b[0;34m]\u001b[0m \u001b[0;34m=\u001b[0m \u001b[0mconversion\u001b[0m\u001b[0;34m.\u001b[0m\u001b[0mpy2ri\u001b[0m\u001b[0;34m(\u001b[0m\u001b[0mv\u001b[0m\u001b[0;34m)\u001b[0m\u001b[0;34m\u001b[0m\u001b[0m\n\u001b[0;32m--> 106\u001b[0;31m         \u001b[0mres\u001b[0m \u001b[0;34m=\u001b[0m \u001b[0msuper\u001b[0m\u001b[0;34m(\u001b[0m\u001b[0mFunction\u001b[0m\u001b[0;34m,\u001b[0m \u001b[0mself\u001b[0m\u001b[0;34m)\u001b[0m\u001b[0;34m.\u001b[0m\u001b[0m__call__\u001b[0m\u001b[0;34m(\u001b[0m\u001b[0;34m*\u001b[0m\u001b[0mnew_args\u001b[0m\u001b[0;34m,\u001b[0m \u001b[0;34m**\u001b[0m\u001b[0mnew_kwargs\u001b[0m\u001b[0;34m)\u001b[0m\u001b[0;34m\u001b[0m\u001b[0m\n\u001b[0m\u001b[1;32m    107\u001b[0m         \u001b[0mres\u001b[0m \u001b[0;34m=\u001b[0m \u001b[0mconversion\u001b[0m\u001b[0;34m.\u001b[0m\u001b[0mri2ro\u001b[0m\u001b[0;34m(\u001b[0m\u001b[0mres\u001b[0m\u001b[0;34m)\u001b[0m\u001b[0;34m\u001b[0m\u001b[0m\n\u001b[1;32m    108\u001b[0m         \u001b[0;32mreturn\u001b[0m \u001b[0mres\u001b[0m\u001b[0;34m\u001b[0m\u001b[0m\n",
      "\u001b[0;31mRRuntimeError\u001b[0m: Error in attr(x, \"signals\")[[i]] : invalid subscript type 'symbol'\n"
     ]
    }
   ],
   "source": [
    "mbts.sig_cor_mbts(dat)"
   ]
  },
  {
   "cell_type": "code",
   "execution_count": 60,
   "metadata": {
    "collapsed": false
   },
   "outputs": [],
   "source": [
    "plot_signal(dat,path='/data/sw1/Dropbox/timeseries/sig.png')\n",
    "plot_simulation(dat,path='/data/sw1/Dropbox/timeseries/sim.png')"
   ]
  }
 ],
 "metadata": {
  "kernelspec": {
   "display_name": "Python [conda env:tensorflow3]",
   "language": "python",
   "name": "conda-env-tensorflow3-py"
  },
  "language_info": {
   "codemirror_mode": {
    "name": "ipython",
    "version": 3
   },
   "file_extension": ".py",
   "mimetype": "text/x-python",
   "name": "python",
   "nbconvert_exporter": "python",
   "pygments_lexer": "ipython3",
   "version": "3.6.0"
  }
 },
 "nbformat": 4,
 "nbformat_minor": 2
}
